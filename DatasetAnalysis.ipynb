{
  "nbformat": 4,
  "nbformat_minor": 0,
  "metadata": {
    "colab": {
      "provenance": []
    },
    "kernelspec": {
      "name": "python3",
      "display_name": "Python 3"
    },
    "language_info": {
      "name": "python"
    }
  },
  "cells": [
    {
      "cell_type": "code",
      "execution_count": 4,
      "metadata": {
        "id": "WN3rErmdgk5u"
      },
      "outputs": [],
      "source": [
        "import json\n",
        "\n",
        "with open(\"investors.json\", \"r\", encoding=\"utf-8\") as file:\n",
        "    data = json.load(file)  # Load JSON data into a Python object (list of dicts)\n",
        "\n",
        "# see repeated entity names\n",
        "#names = [item[\"name\"] for item in data]\n",
        "#seen = set()\n",
        "#dupes = [x for x in names if x in seen or seen.add(x)]\n",
        "\n",
        "#print(dupes)\n",
        "\n",
        "# filter out entities with empty investments\n",
        "filtered_data = [\n",
        "    entity for entity in data\n",
        "    if all('roundSizeUsd' in investment for investment in entity.get('investments', []))\n",
        "]\n",
        "\n",
        "filtered_data.sort(key=lambda x: x.get('type', ''))\n",
        "\n",
        "\n",
        "output_file = 'filtered_data.json'\n",
        "with open(output_file, 'w') as f:\n",
        "  json.dump(filtered_data, f, indent=2)\n",
        "\n",
        "\n",
        "\n",
        "# print(json.dumps(filtered_data, indent=2))"
      ]
    }
  ]
}